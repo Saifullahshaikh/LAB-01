{
 "cells": [
  {
   "cell_type": "markdown",
   "metadata": {},
   "source": [
    "# LAB-1"
   ]
  },
  {
   "cell_type": "markdown",
   "metadata": {},
   "source": [
    "#  Student Exercise"
   ]
  },
  {
   "cell_type": "markdown",
   "metadata": {},
   "source": [
    "# 1"
   ]
  },
  {
   "cell_type": "code",
   "execution_count": 1,
   "metadata": {},
   "outputs": [
    {
     "name": "stdout",
     "output_type": "stream",
     "text": [
      "enter a temperature in C 60\n",
      "temperature: 60 C= 140.0 F\n"
     ]
    }
   ],
   "source": [
    "C = (int(input(\"enter a temperature in C \")))\n",
    "F = (9/5*C)+32\n",
    "print(\"temperature:\", C,\"C=\",F,\"F\" )"
   ]
  },
  {
   "cell_type": "markdown",
   "metadata": {},
   "source": [
    "# 2"
   ]
  },
  {
   "cell_type": "code",
   "execution_count": 2,
   "metadata": {},
   "outputs": [
    {
     "name": "stdout",
     "output_type": "stream",
     "text": [
      "enter a temperature in F 70\n",
      "temperature: 70 F = 21.11111111111111 C\n"
     ]
    }
   ],
   "source": [
    "F = (int(input(\"enter a temperature in F \")))\n",
    "C = (5/9*(F-32))\n",
    "print(\"temperature:\",F,\"F =\",C,\"C\")"
   ]
  },
  {
   "cell_type": "markdown",
   "metadata": {},
   "source": [
    "# 3"
   ]
  },
  {
   "cell_type": "code",
   "execution_count": 3,
   "metadata": {},
   "outputs": [
    {
     "name": "stdout",
     "output_type": "stream",
     "text": [
      "the length of the rectangle: 8\n",
      "the width of the rectangle: 4\n",
      "the area of the rectangle is: 32.0\n"
     ]
    }
   ],
   "source": [
    "l = float(input(\"the length of the rectangle: \"))\n",
    "w = float(input(\"the width of the rectangle: \"))\n",
    "print(\"the area of the rectangle is: \" +str(l*w))"
   ]
  },
  {
   "cell_type": "markdown",
   "metadata": {},
   "source": [
    "# 4"
   ]
  },
  {
   "cell_type": "code",
   "execution_count": 4,
   "metadata": {},
   "outputs": [
    {
     "name": "stdout",
     "output_type": "stream",
     "text": [
      "the radius of the sphere is: 4\n",
      "the volume of the sphere is: 268.082573106329\n"
     ]
    }
   ],
   "source": [
    "from math import pi\n",
    "r = (int(input(\"the radius of the sphere is: \")))\n",
    "print(\"the volume of the sphere is: \"+str(4/3*pi*r**3))"
   ]
  },
  {
   "cell_type": "markdown",
   "metadata": {},
   "source": [
    "# 5"
   ]
  },
  {
   "cell_type": "code",
   "execution_count": 5,
   "metadata": {},
   "outputs": [
    {
     "name": "stdout",
     "output_type": "stream",
     "text": [
      "SAIFULLAH\n",
      "saifullah\n",
      "Saifullah\n"
     ]
    }
   ],
   "source": [
    "name = \"SaIfUlLaH\"\n",
    "# some functions can be used upper(),lower(),title()\n",
    "print(name.upper())\n",
    "print(name.lower())\n",
    "print(name.title())"
   ]
  },
  {
   "cell_type": "code",
   "execution_count": null,
   "metadata": {},
   "outputs": [],
   "source": []
  }
 ],
 "metadata": {
  "kernelspec": {
   "display_name": "Python 3",
   "language": "python",
   "name": "python3"
  },
  "language_info": {
   "codemirror_mode": {
    "name": "ipython",
    "version": 3
   },
   "file_extension": ".py",
   "mimetype": "text/x-python",
   "name": "python",
   "nbconvert_exporter": "python",
   "pygments_lexer": "ipython3",
   "version": "3.6.5"
  }
 },
 "nbformat": 4,
 "nbformat_minor": 2
}
