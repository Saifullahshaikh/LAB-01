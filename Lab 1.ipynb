{
 "cells": [
  {
   "cell_type": "markdown",
   "metadata": {},
   "source": [
    "# LAB-1"
   ]
  },
  {
   "cell_type": "markdown",
   "metadata": {},
   "source": [
    "# Problem 3"
   ]
  },
  {
   "cell_type": "code",
   "execution_count": 3,
   "metadata": {},
   "outputs": [
    {
     "name": "stdout",
     "output_type": "stream",
     "text": [
      "whats your name: saifullah\n",
      "how old are you: 20\n",
      "saifullah will be 100 years old in the year2098\n"
     ]
    }
   ],
   "source": [
    "name = input(\"whats your name: \")\n",
    "age = int(input(\"how old are you: \"))\n",
    "year = str((2018-age)+100)\n",
    "print(name + \" will be 100 years old in the year\" +year)"
   ]
  },
  {
   "cell_type": "markdown",
   "metadata": {},
   "source": [
    "# problem 4"
   ]
  },
  {
   "cell_type": "code",
   "execution_count": 4,
   "metadata": {},
   "outputs": [
    {
     "name": "stdout",
     "output_type": "stream",
     "text": [
      "Twinkle, twinkle, little star,  \n",
      "\tHow I wonder what you are! \n",
      "\t\tUp above the world so high, \n",
      "\t\tLike A daimond in the sky. \n",
      "Twinkle, twinkle, little star, \n",
      "\tHow I wonder what you are!\n"
     ]
    }
   ],
   "source": [
    "print(\"Twinkle, twinkle, little star,  \\n\\tHow I wonder what you are! \\n\\t\\tUp above the world so high, \\n\\t\\tLike A daimond in the sky. \\nTwinkle, twinkle, little star, \\n\\tHow I wonder what you are!\") "
   ]
  },
  {
   "cell_type": "markdown",
   "metadata": {},
   "source": [
    "# problem 5"
   ]
  },
  {
   "cell_type": "code",
   "execution_count": 67,
   "metadata": {},
   "outputs": [
    {
     "name": "stdout",
     "output_type": "stream",
     "text": [
      "Current date time: \n",
      "2018-10-14 00:31:29\n"
     ]
    }
   ],
   "source": [
    "# import datetime\n",
    "now = datetime.datetime.now()\n",
    "print(\"Current date time: \")\n",
    "print(now.strftime(\"%Y-%m-%d %H:%M:%S\"))"
   ]
  },
  {
   "cell_type": "markdown",
   "metadata": {},
   "source": [
    "# problem 6"
   ]
  },
  {
   "cell_type": "code",
   "execution_count": 13,
   "metadata": {},
   "outputs": [
    {
     "name": "stdout",
     "output_type": "stream",
     "text": [
      "Input the radius of the circle: 6\n",
      "The area of the circle with radius 6.0is: 113.09733552923255\n"
     ]
    }
   ],
   "source": [
    "from math import pi\n",
    "r = float(input(\"Input the radius of the circle: \"))\n",
    "print(\"The area of the circle with radius \" + str(r) + \"is: \"+ str(pi*r**2))"
   ]
  },
  {
   "cell_type": "markdown",
   "metadata": {},
   "source": [
    "# problem 7"
   ]
  },
  {
   "cell_type": "code",
   "execution_count": 14,
   "metadata": {},
   "outputs": [
    {
     "name": "stdout",
     "output_type": "stream",
     "text": [
      "input your first name: saifullah\n",
      "input your last name: shaikh\n",
      "Hello shaikh saifullah\n"
     ]
    }
   ],
   "source": [
    "fname = input(\"input your first name: \")\n",
    "lname = input(\"input your last name: \")\n",
    "print(\"Hello \"+lname+\" \"+fname)"
   ]
  },
  {
   "cell_type": "markdown",
   "metadata": {},
   "source": [
    "# problem 8"
   ]
  },
  {
   "cell_type": "code",
   "execution_count": 15,
   "metadata": {},
   "outputs": [
    {
     "name": "stdout",
     "output_type": "stream",
     "text": [
      "input the year: 2018\n",
      "input the month: 10\n",
      "    October 2018\n",
      "Mo Tu We Th Fr Sa Su\n",
      " 1  2  3  4  5  6  7\n",
      " 8  9 10 11 12 13 14\n",
      "15 16 17 18 19 20 21\n",
      "22 23 24 25 26 27 28\n",
      "29 30 31\n",
      "\n"
     ]
    }
   ],
   "source": [
    "import calendar\n",
    "y = int(input(\"input the year: \"))\n",
    "m = int(input(\"input the month: \"))\n",
    "print(calendar.month(y, m))"
   ]
  },
  {
   "cell_type": "markdown",
   "metadata": {},
   "source": [
    "# programming exercise"
   ]
  },
  {
   "cell_type": "markdown",
   "metadata": {},
   "source": [
    "# Ex# 1"
   ]
  },
  {
   "cell_type": "code",
   "execution_count": 38,
   "metadata": {},
   "outputs": [
    {
     "name": "stdout",
     "output_type": "stream",
     "text": [
      "temperature: 50 C= 122.0 F\n"
     ]
    }
   ],
   "source": [
    "C = (50)\n",
    "F = ((9/5*C)+32)\n",
    "print(\"temperature:\",C, \"C=\", F, \"F\") "
   ]
  },
  {
   "cell_type": "markdown",
   "metadata": {},
   "source": [
    "# Ex# 2 "
   ]
  },
  {
   "cell_type": "code",
   "execution_count": 42,
   "metadata": {},
   "outputs": [
    {
     "name": "stdout",
     "output_type": "stream",
     "text": [
      "temperature: 60 F = 15.555555555555557 C\n"
     ]
    }
   ],
   "source": [
    "F = (60)\n",
    "C =(5/9*(F-32))\n",
    "print(\"temperature:\",F, \"F =\", C, \"C\")"
   ]
  },
  {
   "cell_type": "markdown",
   "metadata": {},
   "source": [
    "# 3"
   ]
  },
  {
   "cell_type": "code",
   "execution_count": 64,
   "metadata": {},
   "outputs": [
    {
     "name": "stdout",
     "output_type": "stream",
     "text": [
      "the length of rectangle is: 8\n",
      "the width of rectabgle is: 4\n",
      "the area of the rectangle is: 32.0\n"
     ]
    }
   ],
   "source": [
    "l = float(input(\"the length of rectangle is: \"))\n",
    "w = float(input(\"the width of rectabgle is: \"))\n",
    "print(\"the area of the rectangle is: \" +str(l*w))"
   ]
  },
  {
   "cell_type": "markdown",
   "metadata": {},
   "source": [
    "# 4"
   ]
  },
  {
   "cell_type": "code",
   "execution_count": 65,
   "metadata": {},
   "outputs": [
    {
     "name": "stdout",
     "output_type": "stream",
     "text": [
      "the radius of the sphere is: 5\n",
      "the volume of the sphere is: 523.5987755982989\n"
     ]
    }
   ],
   "source": [
    "from math import pi\n",
    "r = (int(input(\"the radius of the sphere is: \")))\n",
    "print(\"the volume of the sphere is: \"+str(4/3*pi*r**3))"
   ]
  },
  {
   "cell_type": "markdown",
   "metadata": {},
   "source": [
    "# 5"
   ]
  },
  {
   "cell_type": "code",
   "execution_count": 66,
   "metadata": {},
   "outputs": [
    {
     "name": "stdout",
     "output_type": "stream",
     "text": [
      "SAIFULLAH\n",
      "saifullah\n",
      "Saifullah\n"
     ]
    }
   ],
   "source": [
    "name = (\"SaIfUlLaH\")\n",
    "# some functions can be used upper(), lower(), title()\n",
    "print(name.upper())\n",
    "print(name.lower())\n",
    "print(name.title())"
   ]
  },
  {
   "cell_type": "code",
   "execution_count": null,
   "metadata": {},
   "outputs": [],
   "source": []
  }
 ],
 "metadata": {
  "kernelspec": {
   "display_name": "Python 3",
   "language": "python",
   "name": "python3"
  },
  "language_info": {
   "codemirror_mode": {
    "name": "ipython",
    "version": 3
   },
   "file_extension": ".py",
   "mimetype": "text/x-python",
   "name": "python",
   "nbconvert_exporter": "python",
   "pygments_lexer": "ipython3",
   "version": "3.6.5"
  }
 },
 "nbformat": 4,
 "nbformat_minor": 2
}
